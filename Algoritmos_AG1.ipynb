{
  "nbformat": 4,
  "nbformat_minor": 0,
  "metadata": {
    "colab": {
      "name": "Algoritmos-AG1.ipynb",
      "provenance": [],
      "collapsed_sections": []
    },
    "kernelspec": {
      "name": "python3",
      "display_name": "Python 3"
    }
  },
  "cells": [
    {
      "cell_type": "markdown",
      "metadata": {
        "id": "KJtXmFkOtKEs"
      },
      "source": [
        "#Algoritmos - Actividad Guiada 1\r\n",
        "Nombre: David Jimenez <br>\r\n",
        "URL: [https://colab.research.google.com/drive/1ipLFrJGIn_XoAMig3wHOvHoFL2NG5BFs?usp=sharing](https://colab.research.google.com/drive/1ipLFrJGIn_XoAMig3wHOvHoFL2NG5BFs?usp=sharing)\r\n",
        "\r\n",
        "Github: [https://github.com/DavidJG5/03MAIR--Algoritmos-de-Optimizacion-2020](https://github.com/DavidJG5/03MAIR--Algoritmos-de-Optimizacion-2020)"
      ]
    },
    {
      "cell_type": "markdown",
      "metadata": {
        "id": "WkKsuz5tvV6Q"
      },
      "source": [
        "##Torres de Hanoi con 'Divide y vencerás'\r\n"
      ]
    },
    {
      "cell_type": "code",
      "metadata": {
        "colab": {
          "base_uri": "https://localhost:8080/"
        },
        "id": "bbYSU-adsT2q",
        "outputId": "3520547f-a2a2-4d78-cf2e-ec170a15c329"
      },
      "source": [
        "#N Cantidad de fichas\r\n",
        "#desde Torre origen\r\n",
        "#hasta Torre destino\r\n",
        "def Torres_Hanoi(N,desde, hasta):\r\n",
        "\r\n",
        "  if N ==1:\r\n",
        "    print(\"Lleva la ficha desde\",desde,\"hasta\" ,hasta)\r\n",
        "\r\n",
        "  else:\r\n",
        "    pivote= list({1,2,3}-{desde,hasta})[0] # O de otra forma ==> 6-desde-hasta\r\n",
        "    Torres_Hanoi(N-1,desde,pivote)\r\n",
        "    print(\"Lleva la ficha desde\",desde,\"hasta\" ,hasta)\r\n",
        "    Torres_Hanoi(N-1,pivote,hasta)\r\n",
        "    \r\n",
        "Torres_Hanoi(6,1,3)"
      ],
      "execution_count": null,
      "outputs": [
        {
          "output_type": "stream",
          "text": [
            "Lleva la ficha desde 1 hasta 2\n",
            "Lleva la ficha desde 1 hasta 3\n",
            "Lleva la ficha desde 2 hasta 3\n",
            "Lleva la ficha desde 1 hasta 2\n",
            "Lleva la ficha desde 3 hasta 1\n",
            "Lleva la ficha desde 3 hasta 2\n",
            "Lleva la ficha desde 1 hasta 2\n",
            "Lleva la ficha desde 1 hasta 3\n",
            "Lleva la ficha desde 2 hasta 3\n",
            "Lleva la ficha desde 2 hasta 1\n",
            "Lleva la ficha desde 3 hasta 1\n",
            "Lleva la ficha desde 2 hasta 3\n",
            "Lleva la ficha desde 1 hasta 2\n",
            "Lleva la ficha desde 1 hasta 3\n",
            "Lleva la ficha desde 2 hasta 3\n",
            "Lleva la ficha desde 1 hasta 2\n",
            "Lleva la ficha desde 3 hasta 1\n",
            "Lleva la ficha desde 3 hasta 2\n",
            "Lleva la ficha desde 1 hasta 2\n",
            "Lleva la ficha desde 3 hasta 1\n",
            "Lleva la ficha desde 2 hasta 3\n",
            "Lleva la ficha desde 2 hasta 1\n",
            "Lleva la ficha desde 3 hasta 1\n",
            "Lleva la ficha desde 3 hasta 2\n",
            "Lleva la ficha desde 1 hasta 2\n",
            "Lleva la ficha desde 1 hasta 3\n",
            "Lleva la ficha desde 2 hasta 3\n",
            "Lleva la ficha desde 1 hasta 2\n",
            "Lleva la ficha desde 3 hasta 1\n",
            "Lleva la ficha desde 3 hasta 2\n",
            "Lleva la ficha desde 1 hasta 2\n",
            "Lleva la ficha desde 1 hasta 3\n",
            "Lleva la ficha desde 2 hasta 3\n",
            "Lleva la ficha desde 2 hasta 1\n",
            "Lleva la ficha desde 3 hasta 1\n",
            "Lleva la ficha desde 2 hasta 3\n",
            "Lleva la ficha desde 1 hasta 2\n",
            "Lleva la ficha desde 1 hasta 3\n",
            "Lleva la ficha desde 2 hasta 3\n",
            "Lleva la ficha desde 2 hasta 1\n",
            "Lleva la ficha desde 3 hasta 1\n",
            "Lleva la ficha desde 3 hasta 2\n",
            "Lleva la ficha desde 1 hasta 2\n",
            "Lleva la ficha desde 3 hasta 1\n",
            "Lleva la ficha desde 2 hasta 3\n",
            "Lleva la ficha desde 2 hasta 1\n",
            "Lleva la ficha desde 3 hasta 1\n",
            "Lleva la ficha desde 2 hasta 3\n",
            "Lleva la ficha desde 1 hasta 2\n",
            "Lleva la ficha desde 1 hasta 3\n",
            "Lleva la ficha desde 2 hasta 3\n",
            "Lleva la ficha desde 1 hasta 2\n",
            "Lleva la ficha desde 3 hasta 1\n",
            "Lleva la ficha desde 3 hasta 2\n",
            "Lleva la ficha desde 1 hasta 2\n",
            "Lleva la ficha desde 1 hasta 3\n",
            "Lleva la ficha desde 2 hasta 3\n",
            "Lleva la ficha desde 2 hasta 1\n",
            "Lleva la ficha desde 3 hasta 1\n",
            "Lleva la ficha desde 2 hasta 3\n",
            "Lleva la ficha desde 1 hasta 2\n",
            "Lleva la ficha desde 1 hasta 3\n",
            "Lleva la ficha desde 2 hasta 3\n"
          ],
          "name": "stdout"
        }
      ]
    },
    {
      "cell_type": "markdown",
      "metadata": {
        "id": "Zwt0Qm2n6VeH"
      },
      "source": [
        "## Devolución de cambio por técnica voraz\r\n"
      ]
    },
    {
      "cell_type": "code",
      "metadata": {
        "colab": {
          "base_uri": "https://localhost:8080/"
        },
        "id": "69IfqtFl4xQv",
        "outputId": "83bbee68-4ff1-4f95-e6e1-6bf5b407b832"
      },
      "source": [
        "Sistema_Monetario=[25,10,5,1]\r\n",
        "def cambio_monedas(N=1,SM=Sistema_Monetario):\r\n",
        "  ValorAcumulado=0\r\n",
        "  SOL=[0]*len(SM)\r\n",
        "\r\n",
        "  for i,m in enumerate(SM):\r\n",
        "    monedas=int((N-ValorAcumulado)/m)\r\n",
        "    SOL[i]=monedas\r\n",
        "    ValorAcumulado=ValorAcumulado+monedas*m\r\n",
        "    if ValorAcumulado==N:\r\n",
        "      return SOL\r\n",
        "Valor=124\r\n",
        "print('Resultado para Sistema monetario 1 y valor '+str(Valor))\r\n",
        "print(cambio_monedas(N=124,SM=Sistema_Monetario))\r\n",
        "\r\n",
        "\r\n",
        "#La tecnica voraz funcionaria de manera errónea si del sistema monetario no es el adecuado\r\n",
        "#Ejemplo de error:\r\n",
        "Sistema_Monetario2=[11,5,1]\r\n",
        "Valor=15\r\n",
        "print('Resultado para Sistema monetario 2 y valor '+str(Valor))\r\n",
        "print(cambio_monedas(N=15,SM=Sistema_Monetario2))\r\n",
        "#Nos da un peor resultado (5 monedas) que si tomara 3 de 5.\r\n",
        "#Para el funcionamiento correcto el Sistema monetario tiene que cumplir unos requisitos\r\n",
        "\r\n"
      ],
      "execution_count": null,
      "outputs": [
        {
          "output_type": "stream",
          "text": [
            "Resultado para Sistema monetario 1 y valor 124\n",
            "[4, 2, 0, 4]\n",
            "Resultado para Sistema monetario 2 y valor 15\n",
            "[1, 0, 4]\n"
          ],
          "name": "stdout"
        }
      ]
    },
    {
      "cell_type": "markdown",
      "metadata": {
        "id": "CoWkJ1ec9xEQ"
      },
      "source": [
        "## N-Reinas por técnica de vuelta atras"
      ]
    },
    {
      "cell_type": "code",
      "metadata": {
        "colab": {
          "base_uri": "https://localhost:8080/"
        },
        "id": "R2IwVeiO9_ui",
        "outputId": "996f0e8e-4ee3-4029-d3b5-36208c8c669a"
      },
      "source": [
        "def es_prometedora(SOLUCION,etapa):\r\n",
        "  for i in range(etapa+1):\r\n",
        "    if SOLUCION.count(SOLUCION[i])>1:   return False\r\n",
        "    #Verifica las diagonales\r\n",
        "    for j in range(i+1,etapa+1):\r\n",
        "      if abs(i-j)== abs(SOLUCION[i]-SOLUCION[j]) : return False\r\n",
        "  return True\r\n",
        "\r\n",
        "def escribe(S):\r\n",
        "  n = len(S)\r\n",
        "  for x in range(n):\r\n",
        "    print(\"\")\r\n",
        "    for i in range(n):\r\n",
        "      if S[i] == x+1:\r\n",
        "        print(\" X \" , end=\"\")\r\n",
        "      else:\r\n",
        "        print(\" - \", end=\"\")\r\n",
        "        \r\n",
        "def reinas(N,solucion=[],etapa=0): #Tamaño del tablero\r\n",
        "  if len (solucion)==0:\r\n",
        "    solucion=[0 for i in range(N)]\r\n",
        "\r\n",
        "  for i in range(1,N+1):\r\n",
        "    solucion[etapa]=i\r\n",
        "\r\n",
        "    #print(solucion)\r\n",
        "    if es_prometedora(solucion,etapa):\r\n",
        "      if etapa == N-1 :\r\n",
        "        print(\"\\n\\nLa solución es:\")\r\n",
        "        print(solucion)\r\n",
        "        escribe(solucion)\r\n",
        "      else:\r\n",
        "        #print(\"Es prometedora\\n############\")\r\n",
        "        reinas(N,solucion,etapa+1)\r\n",
        "    else:\r\n",
        "      #print(\"NO PROMETEDORA\\n##########\")\r\n",
        "      None\r\n",
        "    \r\n",
        "    solucion[etapa] = 0\r\n",
        "\r\n",
        "\r\n",
        "reinas(4)\r\n",
        "\r\n",
        "  "
      ],
      "execution_count": null,
      "outputs": [
        {
          "output_type": "stream",
          "text": [
            "\n",
            "\n",
            "La solución es:\n",
            "[2, 4, 1, 3]\n",
            "\n",
            " -  -  X  - \n",
            " X  -  -  - \n",
            " -  -  -  X \n",
            " -  X  -  - \n",
            "\n",
            "La solución es:\n",
            "[3, 1, 4, 2]\n",
            "\n",
            " -  X  -  - \n",
            " -  -  -  X \n",
            " X  -  -  - \n",
            " -  -  X  - "
          ],
          "name": "stdout"
        }
      ]
    },
    {
      "cell_type": "markdown",
      "metadata": {
        "id": "NMQvoRUCBwDP"
      },
      "source": [
        "## Encontrar los dos puntos más cercanos"
      ]
    },
    {
      "cell_type": "code",
      "metadata": {
        "colab": {
          "base_uri": "https://localhost:8080/"
        },
        "id": "9DeB-VplCFm_",
        "outputId": "64436ad0-80a8-447a-a847-f50966686017"
      },
      "source": [
        "import random\r\n",
        "import sys\r\n",
        "import math\r\n",
        "\r\n",
        "def distancia_1d (a,b):\r\n",
        "  return abs(a-b)\r\n",
        "\r\n",
        "def distancia_2d(a,b):\r\n",
        "  return math.sqrt((a[0] - b[0])**2 + (a[1] - b[1])**2)\r\n",
        "\r\n",
        "def puntos_mas_cercanos_fuerza_bruta(Puntos,distancia):  \r\n",
        "  minDist = sys.maxsize\r\n",
        "  for i in range(1,len(Puntos)-1):\r\n",
        "    for j in range(i+1,len(Puntos)):\r\n",
        "      dist = distancia(Puntos[i], Puntos[j])\r\n",
        "      if dist < minDist:\r\n",
        "        minDist = dist\r\n",
        "        PuntosMasCercanos = (Puntos[i], Puntos[j])\r\n",
        "  return PuntosMasCercanos\r\n",
        "\r\n",
        "Lista1D= [random.randrange(0,10000) for i in range(10)]\r\n",
        "Lista2D= [(random.randrange(0,10000),random.randrange(0,10000)) for i in range(10)]\r\n",
        "\r\n",
        "t=puntos_mas_cercanos_fuerza_bruta(Lista1D,distancia_1d)\r\n",
        "print(t)\r\n",
        "\r\n",
        "t2=puntos_mas_cercanos_fuerza_bruta(Lista2D,distancia_2d)\r\n",
        "print(t2)\r\n",
        "\r\n"
      ],
      "execution_count": null,
      "outputs": [
        {
          "output_type": "stream",
          "text": [
            "(2205, 2176)\n",
            "((4706, 3747), (4285, 5372))\n"
          ],
          "name": "stdout"
        }
      ]
    },
    {
      "cell_type": "markdown",
      "metadata": {
        "id": "RggEkP_MSb0W"
      },
      "source": [
        "La complejidad de operaciones por fuerza bruta es O($n^2$)"
      ]
    }
  ]
}