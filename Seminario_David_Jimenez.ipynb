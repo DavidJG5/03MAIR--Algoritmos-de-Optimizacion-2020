{
  "nbformat": 4,
  "nbformat_minor": 0,
  "metadata": {
    "colab": {
      "name": "Seminario David Jimenez.ipynb",
      "provenance": [],
      "collapsed_sections": [],
      "toc_visible": true
    },
    "kernelspec": {
      "display_name": "Python 3",
      "language": "python",
      "name": "python3"
    },
    "language_info": {
      "codemirror_mode": {
        "name": "ipython",
        "version": 3
      },
      "file_extension": ".py",
      "mimetype": "text/x-python",
      "name": "python",
      "nbconvert_exporter": "python",
      "pygments_lexer": "ipython3",
      "version": "3.7.6"
    }
  },
  "cells": [
    {
      "cell_type": "markdown",
      "metadata": {
        "id": "hVbXYX-RfPWh"
      },
      "source": [
        "# Algoritmos de optimización - Seminario<br>\n",
        "Nombre: David Jiménez González<br>\n",
        "Github: https://github.com/DavidJG5/03MAIR--Algoritmos-de-Optimizacion-2020\n",
        "\n",
        "Link: https://colab.research.google.com/drive/10U6yRz9Ls_9YflO7BHms-PKf799rkERO?usp=sharing\n",
        "\n",
        "Problema:\n",
        ">2. Organizar los horarios de partidos de La Liga<br>\n",
        "\n",
        "....\n",
        "\n",
        "(*) La respuesta es obligatoria\n",
        "\n",
        "\n",
        "\n",
        "\n",
        "\n",
        "                                        "
      ]
    },
    {
      "cell_type": "code",
      "metadata": {
        "id": "AiskKkzZfy4e"
      },
      "source": [
        "##Descripcion del problema\n",
        "\n",
        "Desde la La Liga de fútbol profesional se pretende organizar los horarios de los partidos de\n",
        "liga de cada jornada. Se conocen algunos datos que nos deben llevar a diseñar un\n",
        "algoritmo que realice la asignación de los partidos a los horarios de forma que maximice\n",
        "la audiencia.\n",
        "\n",
        "Los horarios disponibles se conocen a priori y son los siguientes: \n"
      ],
      "execution_count": null,
      "outputs": []
    },
    {
      "cell_type": "markdown",
      "metadata": {
        "id": "n7P5ZWTyg4uL"
      },
      "source": [
        "| Día | Horarios | \n",
        "| -- | -- | \n",
        "| Viernes | 20 | \n",
        "| Sabado | 12,16,18,20 | \n",
        "| Domingo | 12,16,18,20 |\n",
        "| Lunes | 20 |"
      ]
    },
    {
      "cell_type": "markdown",
      "metadata": {
        "id": "o17IxWNXg4uR"
      },
      "source": [
        "En primer lugar se clasifican los equipos en tres categorías según el numero de\n",
        "seguidores( que tiene relación directa con la audiencia). Hay 3 equipos en la\n",
        "categoría A, 11 equipos de categoría B y 6 equipos de categoría C.\n",
        "\n",
        "\n",
        "Se conoce estadisticamente la audiencia que genera cada partido según los equipos\n",
        "que se enfrentan y en horario de sábado a las 20h (el mejor en todos los casos):\n"
      ]
    },
    {
      "cell_type": "markdown",
      "metadata": {
        "id": "b_AlAW5Sg4uT"
      },
      "source": [
        "| -- | Categoría A |  Categoría B | Categoría C |\n",
        "| -- | -- | -- | -- | \n",
        "| Categoría A |  2 | 1.3 | 1|\n",
        "| Categoría B |  1.3 | 0.9 |0.75|\n",
        "| Categoría C |  1 |0.75   |0.47|\n"
      ]
    },
    {
      "cell_type": "code",
      "metadata": {
        "id": "sc8XbNImg4uU"
      },
      "source": [
        ""
      ],
      "execution_count": null,
      "outputs": []
    },
    {
      "cell_type": "markdown",
      "metadata": {
        "id": "VmB8HFyng4uW"
      },
      "source": [
        "Si el horario del partido no se realiza a las 20 horas del sábado se sabe que se reduce\n",
        "según los coeficientes de la siguiente tabla\n",
        "\n",
        "Debemos asignar obligatoriamente siempre un partido el viernes y un partido el lunes:\n"
      ]
    },
    {
      "cell_type": "markdown",
      "metadata": {
        "id": "jVMIDdrLg4uX"
      },
      "source": [
        "| -- | Viernes| Sábado|Domingo|Lunes |  \n",
        "| -- | -- | -- | -- | --|\n",
        "| 12h | -- | 0.55 | 0.45 | --|\n",
        "| 16h | -- | 0.7 | 0.75 | --|\n",
        "| 18h | -- | 0.8 | 0.5 | --|\n",
        "| 20h | 0.4 | 1 | 1 | 0.4|\n"
      ]
    },
    {
      "cell_type": "markdown",
      "metadata": {
        "id": "M3rD9DuAg4uY"
      },
      "source": [
        "Es posible la coincidencia de horarios pero en este\n",
        "caso la audiencia de cada partido se verá afectada y\n",
        "se estima que se reduce en porcentaje según la\n",
        "siguiente tabla dependiendo del número de\n",
        "coincidencias:\n",
        "\n",
        "|Coincidencias|-%|\n",
        "| -- | -- | \n",
        "|0|0|\n",
        "|1|25|\n",
        "|2|45|\n",
        "|3|60|\n",
        "|4|70|\n",
        "|5|75|\n",
        "|6|78|\n",
        "|7|80|\n",
        "|8|80|"
      ]
    },
    {
      "cell_type": "markdown",
      "metadata": {
        "id": "3_-exlrTgLd-"
      },
      "source": [
        "(*)¿Cuantas posibilidades hay sin tener en cuenta las restricciones?<br>\n",
        "\n",
        "\n",
        "\n",
        "¿Cuantas posibilidades hay teniendo en cuenta todas las restricciones.\n",
        "\n",
        "\n"
      ]
    },
    {
      "cell_type": "markdown",
      "metadata": {
        "id": "WfCUqJyKhPcw"
      },
      "source": [
        "Respuesta"
      ]
    },
    {
      "cell_type": "markdown",
      "metadata": {
        "id": "9gVWFHipiMwE"
      },
      "source": [
        "Sin tener en cuenta las restricciones y para una jornada concreta de 10 partidos, el número de posibilidades de situar los partidos sería de $10^{10}$ partiendo de que los 10 partidos se pueden jugar en cualquiera de los 10 horarios.\r\n",
        "\r\n",
        "En el caso que obligaramos a repartir los partidos entre todos los horarios, el resultado se reduciria a una permutacion de 10 elementos: \r\n",
        "P<sub>10</sub>=10!= 3628800\r\n",
        "\r\n",
        "En nuestro caso solo obligamos a completar 2 horarios para los que podemos calcular las distintas combinaciones de 2 elementos sobre los 10 disponibles en primer lugar:\r\n",
        "$V_{10}^{2}$ =10*9 =90 combinaciones para esos 2 partidos\r\n",
        "El resto de 8 partidos los podemos repartir, lo que tenemos que multiplicar por la opción de repartir los 8 partidos restantes por los 10 horarios puesto que se pueden repetir.\r\n",
        "En este caso las combinaciones serían $10^8$ por tener 10 opciones de elección por cada uno de los partidos.\r\n",
        "\r\n",
        "Con los dos calculos anteriores llegamos a que las combinaciones posibles siendo obligatorios los partidos de los lunes y los viernes serían:  $90*10^8$=$9*10^9$, se han reducido un 10% de las combinaciones.\r\n",
        "\r\n",
        "A nivel obtención de la función a maximizar tambien podemos tener en cuenta que el partido del viernes y el lunes son intercambiables por tener la misma ponderación (0,4) por lo que podemos reducir las combinaciones de esos 2 partidos a la mitad, quedando el total de posibilidades : = $45*10^8$\r\n",
        "\r\n",
        "Tambien hay que añadir que a pesar de ser 10 partidos, van a ser una combinacion concreta de 6 tipos de partidos en funcion del tipo de club y su aficion.\r\n",
        "Para ello en primer lugar vamos a ver las distintas combinaciones que vamos a tener de partidos:\r\n",
        "\r\n",
        "3 Clubs tipo A\r\n",
        "11 Clubs tipo B\r\n",
        "6 Clubs tipo C\r\n",
        "\r\n",
        "\r\n",
        "Teniendo en cuenta las restricciones las posibilidades se disminuyen por la obligación de ocupar lunes y viernes, y el hecho de que solo existen 6 tipos de partidos en fúnción del tipo de clubs y su afición, se hará el calculo en la siguiente celda.\r\n",
        "\r\n",
        "Analizando el factor de multiplicacion el máximo numero de repeticiones asumible por el factor de multiplicacion es 3, y solamente en los horarios con factor 1, y 2 en los horarios con factor hasta 0.7.\r\n",
        "Y a continuación vamos a demostrar que para cualquier combinacion de partidos la repeticion en horario supone una perdida mayor en el total que el repartirlos simplificando el problema, a un array en el que repartir los partidos.\r\n"
      ]
    },
    {
      "cell_type": "code",
      "metadata": {
        "id": "iq6Fe32MgpDX"
      },
      "source": [
        ""
      ],
      "execution_count": null,
      "outputs": []
    },
    {
      "cell_type": "markdown",
      "metadata": {
        "id": "dzynfVJahHoY"
      },
      "source": [
        "Modelo para el espacio de soluciones<br>\n",
        "(*) ¿Cual es la estructura de datos que mejor se adapta al problema? Argumentalo.(Es posible que hayas elegido una al principio y veas la necesidad de cambiar, arguentalo)\n"
      ]
    },
    {
      "cell_type": "markdown",
      "metadata": {
        "id": "xFIJrOwKi2Ti"
      },
      "source": [
        "Respuesta"
      ]
    },
    {
      "cell_type": "markdown",
      "metadata": {
        "id": "CqaA_btnjGNc"
      },
      "source": [
        "   La estructura original para la evaluacion de la jornada es un array de arrays, de manera que cada elemento se corresponde con un horario y contiene un array con los partidos a celebrar en ese horario, pero vamos a analizar en fúnción de las perdidas inducidas por la coincidencia de los partidos si se puede simplificar en el caso de que admitir que la coincidencia de dos "
      ]
    },
    {
      "cell_type": "code",
      "metadata": {
        "colab": {
          "base_uri": "https://localhost:8080/"
        },
        "id": "gb4L6rVug4un",
        "outputId": "c72eb16f-1c54-4356-b9af-a57de4fa2df3"
      },
      "source": [
        "#Analisis del coste de repeticion de los partidos\n",
        "coste_partidos={'AA':2,'AB':1.3,'AC':1,'BB':0.9,'BC':0.75,'CC':0.47}\n",
        "coste=[2,1.3,1,0.9,0.75,0.47]\n",
        "horarios=[0.4,1,0.8,0.7,0.55,1,0.5,0.75,0.45,0.4]\n",
        "horJornada=['V20','S20','S18','S16','S12','D20','D18','D16','D12','L20']\n",
        "repeticiones=[0,25,45,60,70,75,78,80,80]\n",
        "#Vamos a realizar el analisis para la repeticion en un horario de dos partidos cualquiera\n",
        "#, diferenciando con el coste de hacerlos por separado\n",
        "HorOrdenados=sorted(horarios,reverse=True)\n",
        "print (HorOrdenados)"
      ],
      "execution_count": 23,
      "outputs": [
        {
          "output_type": "stream",
          "text": [
            "[1, 1, 0.8, 0.75, 0.7, 0.55, 0.5, 0.45, 0.4, 0.4]\n"
          ],
          "name": "stdout"
        }
      ]
    },
    {
      "cell_type": "code",
      "metadata": {
        "colab": {
          "base_uri": "https://localhost:8080/"
        },
        "id": "rVjYQtHFg4up",
        "outputId": "88c3d91a-225b-47a8-9d25-3bc18722c561"
      },
      "source": [
        "\n",
        "\n",
        "def repeticionHorario(partido1,partido2,horario):\n",
        "    #print('horario:'+str(horario))\n",
        "    \n",
        "    for i in range(len(horario)):\n",
        "        for j in range (i+1,len(horario)):\n",
        "            sinrepe=partido1*horario[i]+partido2*horario[j]\n",
        "            repe=(partido1+partido2)*horario[i]*0.75\n",
        "           # print('Sin repe='+str(sinrepe))\n",
        "           # print('Repe='+str(repe))\n",
        "            if (repe>sinrepe):\n",
        "                print('Partidos: '+str(partido1)+'   '+str(partido2))\n",
        "                print('Mejor con repeticiones:'+str(horario[i])+ '  '+str(horario[j]))\n",
        "                \n",
        "      #Solo tenemos en cuenta los 8 primeros horarios, puesto que los dos ultimos los tenemos que cubrir siempre \n",
        "      # por las restricciones del problema.      \n",
        "def AnalisisRepeticiones():\n",
        "\n",
        "    for i in range(len(coste)):\n",
        "        for j in range(i,len(coste)):\n",
        "            repeticionHorario(coste[i],coste[j],HorOrdenados[:8])\n",
        "            \n",
        "AnalisisRepeticiones()\n",
        "\n",
        "\n",
        "        "
      ],
      "execution_count": 3,
      "outputs": [
        {
          "output_type": "stream",
          "text": [
            "Partidos: 2   2\n",
            "Mejor con repeticiones:1  0.45\n",
            "Partidos: 2   2\n",
            "Mejor con repeticiones:1  0.45\n",
            "Partidos: 1.3   1.3\n",
            "Mejor con repeticiones:1  0.45\n",
            "Partidos: 1.3   1.3\n",
            "Mejor con repeticiones:1  0.45\n",
            "Partidos: 1   1\n",
            "Mejor con repeticiones:1  0.45\n",
            "Partidos: 1   1\n",
            "Mejor con repeticiones:1  0.45\n",
            "Partidos: 1   0.9\n",
            "Mejor con repeticiones:1  0.45\n",
            "Partidos: 1   0.9\n",
            "Mejor con repeticiones:1  0.45\n",
            "Partidos: 0.9   0.9\n",
            "Mejor con repeticiones:1  0.45\n",
            "Partidos: 0.9   0.9\n",
            "Mejor con repeticiones:1  0.45\n",
            "Partidos: 0.75   0.75\n",
            "Mejor con repeticiones:1  0.45\n",
            "Partidos: 0.75   0.75\n",
            "Mejor con repeticiones:1  0.45\n",
            "Partidos: 0.47   0.47\n",
            "Mejor con repeticiones:1  0.45\n",
            "Partidos: 0.47   0.47\n",
            "Mejor con repeticiones:1  0.45\n"
          ],
          "name": "stdout"
        }
      ]
    },
    {
      "cell_type": "markdown",
      "metadata": {
        "id": "pVyBVWrfg4ur"
      },
      "source": [
        "Hemos observado que solo nos interesaría repetir partido para casos en el que el segundo partido de los que vamos a repetir se\n",
        "fuese a emitir en en el peor horario (0.45), que nos queda una vez eliminados los obligatorios y realizasemos la repeticion con el que se emite en el mejor horario (1).\n",
        "\n",
        "A continuación vamos a analizar si esta casuistica se produce en alguna de las opciones.\n",
        "\n",
        "Al analizar el problema vemos que el horario induce un factor multiplicativo al valor del partido,  por lo tanto al ser el objetivo del problema maximizar el resultado total, obtendremos mejores resultados multiplicando los valores mas altos de partidos, por las constantes mas altas.\n",
        "Analizaremos todas las posibles jornadas que se pueden producir para el conjunto de equipos que se nos indican y veremos si en \n",
        "alguna de las jornadas se daría el caso que nos produce una mejora con la repetición. "
      ]
    },
    {
      "cell_type": "markdown",
      "metadata": {
        "id": "1GBCyfeYg4us"
      },
      "source": [
        "###Analisis de Jornadas posibles\n",
        "Partiendo de \n",
        "3 Clubs tipo A\n",
        "11 Clubs tipo B\n",
        "6 Clubs tipo C\n",
        "\n",
        "Analizamos en primer lugar los partidos que se pueden generar con los clubs de tipo A, y luego las distintas combinaciones del resto, llegamos a las 19 combinaciones que se pueden ver en la tabla.\n",
        "\n",
        "\n",
        "    \n",
        "Llegamos a las siguientes 19 formas de repartir los equipos:\n",
        "\n",
        "##Formas de combinar los equipos\n",
        "\n",
        "|combinacion|AA|AB|AC|BB|BC|CC|\n",
        "|--|--|--|--|--|--|--|\n",
        "|1|1|1|0|5|0|3|\n",
        "|2|1|1|0|4|2|2|\n",
        "|3|1|1|0|3|4|1|\n",
        "|4|1|1|0|2|6|0|\n",
        "|5|1|0|1|5|1|2|\n",
        "|6|1|0|1|4|3|1|\n",
        "|7|1|0|1|3|5|0|\n",
        "|8|0|3|0|4|0|3|\n",
        "|9|0|3|0|3|2|2|\n",
        "|10|0|3|0|2|4|1|\n",
        "|11|0|3|0|1|6|0|\n",
        "|12|0|2|1|4|1|2|\n",
        "|13|0|2|1|3|3|1|\n",
        "|14|0|2|1|2|5|0|\n",
        "|15|0|1|2|5|0|2|\n",
        "|16|0|1|2|4|2|1|\n",
        "|17|0|1|2|3|4|0|\n",
        "|18|0|0|3|5|1|1|\n",
        "|19|0|0|3|4|3|0|\n",
        "\n",
        "\n",
        "Tras analizar la tabla, observamos que siempre hay un minimo de 2 partidos con valor mayor o igual a 1 (AA,AB,AC), por lo que nos quedamos solo con los casos favorables de repeticion para valores mayores de 1.\n",
        "Observamos que la repeticion solo sería favorable, en el caso de 2 partidos de igual valor (AA,AA)(AB,AB)(AC,AC) en el caso que el segundo de los 2 se asignase al peor horario no obligatorio (0,45). Revisando las distintas combinaciones de jornadas vemos que siempre existiria un partido de valor menor que querriamos asignar a ese horario, con lo que ya no obtendriamos ventaja de la repeticion.\n",
        "\n",
        "Una vez demostrado que las repeticiones no nos aportan ventaja el problema se reduce a un conjunto de soluciones de 10! como máximo, en el caso que consideremos los partidos de manera independiente pero seria aun menor para cada caso independiente.\n",
        "\n",
        "Haciendo el ejemplo del enunciado en el que se muestra una jornada de tipo 9:\n",
        "3(AB)3(BB)2(BC)2(CC)\n",
        "\n",
        "Serian Permutaciones de 10 elementos con repeticion:\n",
        "\n",
        "\n",
        "$PR_{10}^{3,3,2,2}=\\frac{10!}{3!*3!*2!*2!}=\\frac{10*9*8*7*6*5*4*3*2*1}{3*2*1*3*2*1*2*1*2*1}=5*7*6*5*4*3*2=25200$ \n",
        "\n",
        "\n",
        "\n",
        "\n"
      ]
    },
    {
      "cell_type": "code",
      "metadata": {
        "colab": {
          "base_uri": "https://localhost:8080/"
        },
        "id": "UqWzhG60lTQc",
        "outputId": "ee1fbb28-d756-42f3-ec59-f8db22e91fa0"
      },
      "source": [
        "import itertools \r\n",
        "#Calculo permutaciones.\r\n",
        "JornadaEjemplo = [\r\n",
        "'CC',   #Horario 0\r\n",
        "'AB',  #Horario 1\r\n",
        "'AB', #Horario 2\r\n",
        "'BB', \r\n",
        "'BB',\r\n",
        "'AB',\r\n",
        "'BC',\r\n",
        "'BB',\r\n",
        "'BC',\r\n",
        "'CC'\r\n",
        "    ]\r\n",
        "\r\n",
        "PermutacionesJornada=set(itertools.permutations(JornadaEjemplo))\r\n",
        "#print (pruebas)\r\n",
        "print('Numero de permutaciones:'+str(len(PermutacionesJornada)))"
      ],
      "execution_count": 4,
      "outputs": [
        {
          "output_type": "stream",
          "text": [
            "Numero de permutaciones:25200\n"
          ],
          "name": "stdout"
        }
      ]
    },
    {
      "cell_type": "markdown",
      "metadata": {
        "id": "7Z9U2W7bi-XS"
      },
      "source": [
        "Según el modelo para el espacio de soluciones<br>\n",
        "(*)¿Cual es la función objetivo?\n",
        "\n",
        "(*)¿Es un problema de maximización o minimización?"
      ]
    },
    {
      "cell_type": "markdown",
      "metadata": {
        "id": "hBalWLM7j1_d"
      },
      "source": [
        "Respuesta"
      ]
    },
    {
      "cell_type": "markdown",
      "metadata": {
        "id": "G7dOuDKDnQ6Y"
      },
      "source": [
        "La funcion a maximizar el publico total de la jornada y se presenta en primer lugar para la situacion inicial que permitia repeticiones. Y se muestra a continuación en un ejemplo de una jornada con repeticiones para comprobar su funcionamiento. Es un problema de maximización en el que queremos obtener el número máximo de espectadores."
      ]
    },
    {
      "cell_type": "code",
      "metadata": {
        "id": "pDA-rg3Gj5Lz"
      },
      "source": [
        "#Datos del problema\n",
        "coste_partidos={'AA':2,'AB':1.3,'AC':1,'BB':0.9,'BC':0.75,'CC':0.47}\n",
        "horarios=[0.4,1,0.8,0.7,0.55,1,0.5,0.75,0.45,0.4]\n",
        "repeticiones=[0,25,45,60,70,75,78,80,80]\n",
        "\n",
        "\n",
        "#La funcion objetivo es el calculo del publico total de la jornada\n",
        "def calculaPublicoJornada(Jornada):\n",
        "    sumaTotal=0\n",
        "    for i in range(10):\n",
        "        sumaHorario=0\n",
        "        for j in range(0,len( Jornada[i])):\n",
        "                    print('')\n",
        "                    print('Partido '+str(i+1)+':'+str(Jornada[i][j]))\n",
        "                    print('Coste Partido:'+str(coste_partidos[Jornada[i][j]]))\n",
        "                    print('Constante por horario Partido:'+str(horarios[i]))\n",
        "                    sumaHorario+=coste_partidos[Jornada[i][j]]*horarios[i]\n",
        "                    print('Suma partido: '+str(j+1)+' en horario '+str(i+1)+'  ='+str(sumaHorario))\n",
        "        if sumaHorario>0:\n",
        "          sumaTotal+=sumaHorario*((100-repeticiones[len( Jornada[i])-1])/100)\n",
        "          print('')\n",
        "          print('Calculo en Horario '+str(i+1)+':'+str(sumaHorario*((100-repeticiones[len( Jornada[i])-1])/100)))\n",
        "        \n",
        "    print('\\nValor de la Jornada='+str(sumaTotal))\n",
        "        \n",
        "                    \n",
        "    #Donde Jornada esta formada por los partidos y el horario en que se juega."
      ],
      "execution_count": 15,
      "outputs": []
    },
    {
      "cell_type": "code",
      "metadata": {
        "colab": {
          "base_uri": "https://localhost:8080/"
        },
        "id": "XxCdQZ98olp0",
        "outputId": "919aff92-1b0c-4e77-e4d7-c4b3fbf20801"
      },
      "source": [
        "Jornada = [\r\n",
        "['CC'],   #Horario 0\r\n",
        "['AB'],  #Horario 1\r\n",
        "['AB'], #Horario 2\r\n",
        "['BB','CC'], #Horario 3\r\n",
        "['BB','AB'],\r\n",
        "[],\r\n",
        "['BC'],\r\n",
        "['BB'],\r\n",
        "['BC'],\r\n",
        "[]\r\n",
        "    ]\r\n",
        "calculaPublicoJornada(Jornada)"
      ],
      "execution_count": 16,
      "outputs": [
        {
          "output_type": "stream",
          "text": [
            "\n",
            "Partido 1:CC\n",
            "Coste Partido:0.47\n",
            "Constante por horario Partido:0.4\n",
            "Suma partido: 1 en horario 1  =0.188\n",
            "\n",
            "Calculo en Horario 1:0.188\n",
            "\n",
            "Partido 2:AB\n",
            "Coste Partido:1.3\n",
            "Constante por horario Partido:1\n",
            "Suma partido: 1 en horario 2  =1.3\n",
            "\n",
            "Calculo en Horario 2:1.3\n",
            "\n",
            "Partido 3:AB\n",
            "Coste Partido:1.3\n",
            "Constante por horario Partido:0.8\n",
            "Suma partido: 1 en horario 3  =1.04\n",
            "\n",
            "Calculo en Horario 3:1.04\n",
            "\n",
            "Partido 4:BB\n",
            "Coste Partido:0.9\n",
            "Constante por horario Partido:0.7\n",
            "Suma partido: 1 en horario 4  =0.63\n",
            "\n",
            "Partido 4:CC\n",
            "Coste Partido:0.47\n",
            "Constante por horario Partido:0.7\n",
            "Suma partido: 2 en horario 4  =0.959\n",
            "\n",
            "Calculo en Horario 4:0.71925\n",
            "\n",
            "Partido 5:BB\n",
            "Coste Partido:0.9\n",
            "Constante por horario Partido:0.55\n",
            "Suma partido: 1 en horario 5  =0.49500000000000005\n",
            "\n",
            "Partido 5:AB\n",
            "Coste Partido:1.3\n",
            "Constante por horario Partido:0.55\n",
            "Suma partido: 2 en horario 5  =1.2100000000000002\n",
            "\n",
            "Calculo en Horario 5:0.9075000000000002\n",
            "\n",
            "Partido 7:BC\n",
            "Coste Partido:0.75\n",
            "Constante por horario Partido:0.5\n",
            "Suma partido: 1 en horario 7  =0.375\n",
            "\n",
            "Calculo en Horario 7:0.375\n",
            "\n",
            "Partido 8:BB\n",
            "Coste Partido:0.9\n",
            "Constante por horario Partido:0.75\n",
            "Suma partido: 1 en horario 8  =0.675\n",
            "\n",
            "Calculo en Horario 8:0.675\n",
            "\n",
            "Partido 9:BC\n",
            "Coste Partido:0.75\n",
            "Constante por horario Partido:0.45\n",
            "Suma partido: 1 en horario 9  =0.3375\n",
            "\n",
            "Calculo en Horario 9:0.3375\n",
            "\n",
            "Valor de la Jornada=5.54225\n"
          ],
          "name": "stdout"
        }
      ]
    },
    {
      "cell_type": "markdown",
      "metadata": {
        "id": "zXUdBPpzqbxd"
      },
      "source": [
        "A continuación simplificamos la función aprovechandonos del análisis previo en el que eliminabamos las repeticiones. Y mostramos un ejemplo de su uso."
      ]
    },
    {
      "cell_type": "code",
      "metadata": {
        "id": "FHXf3r4rg4u_"
      },
      "source": [
        "#La funcion objetivo es el calculo del publico total de la jornada\n",
        "def calculaPublicoJornadaLista(Jornada):\n",
        "    sumaTotal=0\n",
        "    for i in range(10):\n",
        "        sumaTotal+=coste_partidos[Jornada[i]]*horarios[i]\n",
        "    #print('Valor de la Jornada='+str(sumaTotal))\n",
        "    return sumaTotal"
      ],
      "execution_count": 18,
      "outputs": []
    },
    {
      "cell_type": "code",
      "metadata": {
        "colab": {
          "base_uri": "https://localhost:8080/"
        },
        "id": "tRTaI4T8g4vA",
        "outputId": "1293c616-b344-4aa8-c4dc-7826f84a184d"
      },
      "source": [
        "JornadaEjemplo = [\r\n",
        "'CC',   #Horario 0\r\n",
        "'AB',  #Horario 1\r\n",
        "'AB', #Horario 2\r\n",
        "'BB', \r\n",
        "'BB',\r\n",
        "'AB',\r\n",
        "'BC',\r\n",
        "'BB',\r\n",
        "'BC',\r\n",
        "'CC'\r\n",
        "    ]\r\n",
        "calculaPublicoJornadaLista(JornadaEjemplo)"
      ],
      "execution_count": 19,
      "outputs": [
        {
          "output_type": "execute_result",
          "data": {
            "text/plain": [
              "6.5285"
            ]
          },
          "metadata": {
            "tags": []
          },
          "execution_count": 19
        }
      ]
    },
    {
      "cell_type": "code",
      "metadata": {
        "id": "6xsgzf0-g4vE"
      },
      "source": [
        ""
      ],
      "execution_count": null,
      "outputs": []
    },
    {
      "cell_type": "markdown",
      "metadata": {
        "id": "rlnTYgY1j6I2"
      },
      "source": [
        "Diseña un algoritmo para resolver el problema por fuerza bruta"
      ]
    },
    {
      "cell_type": "markdown",
      "metadata": {
        "id": "70rDgxYXkC8r"
      },
      "source": [
        "Respuesta"
      ]
    },
    {
      "cell_type": "code",
      "metadata": {
        "colab": {
          "base_uri": "https://localhost:8080/"
        },
        "id": "CJb5sQ0qkENy",
        "outputId": "28dbf6ad-4b73-4b9c-a8cb-095e29d679fd"
      },
      "source": [
        "#Calculando el publico por jornada para todas las combinaciones posibles, de los partidos.\n",
        "#Correspondencia entre la jornada y el horario para mostrar junto a las soluciones\n",
        "#Las soluciones se corresponden con un array de partidos jugados en el orden indicado en horJornada\n",
        "horJornada=['V20','S20','S18','S16','S12','D20','D18','D16','D12','L20']\n",
        "JornadaTest = ['AA', 'AB','BB', 'BB', 'BB','BB','BB','CC','CC','CC']\n",
        "\n",
        "\n",
        "def FuerzaBruta(JornadaInicial):\n",
        "    test=list(set(itertools.permutations(JornadaInicial)))\n",
        "    maxEsp=0\n",
        "    sol=[]\n",
        "    \n",
        "    for i in range(0,len(test)):\n",
        "        espect=calculaPublicoJornadaLista(test[i])\n",
        "        if espect>maxEsp:\n",
        "            maxEsp=espect\n",
        "            sol=test[i]\n",
        "           \n",
        "    print('Solucion Fuerza Bruta:'+str(sol))\n",
        "    print('Número espectadores Fuerza Bruta:='+str(maxEsp))\n",
        "    print('Numero de soluciones a probar:'+str(len(test)))\n",
        "    return sol\n",
        "\n",
        "print('Horario:             '+str(horJornada)) \n",
        "Fb=FuerzaBruta(JornadaTest)"
      ],
      "execution_count": 32,
      "outputs": [
        {
          "output_type": "stream",
          "text": [
            "Horario:             ['V20', 'S20', 'S18', 'S16', 'S12', 'D20', 'D18', 'D16', 'D12', 'L20']\n",
            "Solucion Fuerza Bruta:('CC', 'AB', 'BB', 'BB', 'BB', 'AA', 'BB', 'BB', 'CC', 'CC')\n",
            "Número espectadores Fuerza Bruta:=6.8575\n",
            "Numero de soluciones a probar:5040\n"
          ],
          "name": "stdout"
        }
      ]
    },
    {
      "cell_type": "markdown",
      "metadata": {
        "id": "tgrnsC2nkFa8"
      },
      "source": [
        "Calcula la complejidad del algoritmo por fuerza bruta"
      ]
    },
    {
      "cell_type": "markdown",
      "metadata": {
        "id": "9eUd3xwckP68"
      },
      "source": [
        "Respuesta"
      ]
    },
    {
      "cell_type": "markdown",
      "metadata": {
        "id": "6NZT8N9Pg4vK"
      },
      "source": [
        "En este caso el orden del algoritmo es O(n!),por un lado tenemos las permutaciones de la solucion, que nos dan ese orden factorial, aunque siempre es menor al existir encuentros repetidos, y quedaria multiplicado por las n operaciones para obtener el valor de cada permutacion, pero esto es despreciable en cuanto al orden, puesto que n!*n, lo podriamos acotar por (n+1)!, cuyo orden es O(n!)."
      ]
    },
    {
      "cell_type": "markdown",
      "metadata": {
        "id": "txbrmLmskReM"
      },
      "source": [
        "(*)Diseña un algoritmo que mejore la complejidad del algortimo por fuerza bruta. Argumenta porque crees que mejora el algoritmo por fuerza bruta"
      ]
    },
    {
      "cell_type": "markdown",
      "metadata": {
        "id": "hLrVwt5QkZPD"
      },
      "source": [
        "Respuesta"
      ]
    },
    {
      "cell_type": "markdown",
      "metadata": {
        "id": "DBM6tS7bg4vO"
      },
      "source": [
        "Tras haber analizado, y simplificado en las fases anteriores el problema, se observa que se adapta a la perfección para adoptar un algoritmo voraz, de tal manera que ordenando los partidos en función de su numero base de televidentes, cada partido se vaya situando en el horario de máxima multiplicación."
      ]
    },
    {
      "cell_type": "code",
      "metadata": {
        "id": "m1eyM21Vkabg"
      },
      "source": [
        "horarios=[0.4,1,0.8,0.7,0.55,1,0.5,0.75,0.45,0.4]\n",
        "from operator import itemgetter\n",
        "JornadaTest = ['AA', 'AB','BB', 'BB', 'BB','BB','BB','CC','CC','CC']\n",
        "def SolucionVoraz(Jornada):\n",
        "    sol=[0] * 10\n",
        "    ordenado=sorted(Jornada)\n",
        "    horOrd=sorted(enumerate(horarios),key=itemgetter(1),  reverse=True)\n",
        "    for i in range(0,len(ordenado)):\n",
        "        index, value = horOrd[i]\n",
        "        sol[index]=ordenado[i]\n",
        "    \n",
        "    espect=calculaPublicoJornadaLista(sol)\n",
        "       \n",
        "    print('Solucion Voraz:'+str(sol))\n",
        "    print('Número espectadores Voraz:='+str(espect))\n",
        "    "
      ],
      "execution_count": 33,
      "outputs": []
    },
    {
      "cell_type": "code",
      "metadata": {
        "colab": {
          "base_uri": "https://localhost:8080/"
        },
        "id": "rycBr9XZg4vS",
        "outputId": "b946890d-0d48-47e7-95d0-13fc6fd3088a"
      },
      "source": [
        "print('Horario      :'+str(horJornada)) \n",
        "SolucionVoraz(JornadaTest)\n",
        "\n"
      ],
      "execution_count": 34,
      "outputs": [
        {
          "output_type": "stream",
          "text": [
            "Horario      :['V20', 'S20', 'S18', 'S16', 'S12', 'D20', 'D18', 'D16', 'D12', 'L20']\n",
            "Solucion Voraz:['CC', 'AA', 'BB', 'BB', 'BB', 'AB', 'BB', 'BB', 'CC', 'CC']\n",
            "Número espectadores Voraz:=6.8575\n"
          ],
          "name": "stdout"
        }
      ]
    },
    {
      "cell_type": "markdown",
      "metadata": {
        "id": "eGDB4K6uk1iN"
      },
      "source": [
        "(*)Calcula la complejidad del algoritmo "
      ]
    },
    {
      "cell_type": "markdown",
      "metadata": {
        "id": "NhpTh_BPk1ms"
      },
      "source": [
        "Respuesta"
      ]
    },
    {
      "cell_type": "markdown",
      "metadata": {
        "id": "qqRQVLBDr89b"
      },
      "source": [
        "La complejidad de este algoritmo, esta en las ordenaciones tanto de los horarios como de los partidos, estimando que esta ordenación se realiza por el metodo de monticulos, la complejidad sera O(nlog(n))"
      ]
    },
    {
      "cell_type": "markdown",
      "metadata": {
        "id": "3M6QjTsSkmYe"
      },
      "source": [
        "Según el problema (y tenga sentido), diseña un juego de datos de entrada aleatorios"
      ]
    },
    {
      "cell_type": "markdown",
      "metadata": {
        "id": "Jc3_OlyNkvjZ"
      },
      "source": [
        "Respuesta"
      ]
    },
    {
      "cell_type": "markdown",
      "metadata": {
        "id": "9vUz0b36upqv"
      },
      "source": [
        "Puesto que el conjunto de datos de entrada es limitado se van a generar los 19 juegos de datos que tienen sentido:\r\n",
        "\r\n",
        "|combinacion|AA|AB|AC|BB|BC|CC|\r\n",
        "|--|--|--|--|--|--|--|\r\n",
        "|1|1|1|0|5|0|3|\r\n",
        "|2|1|1|0|4|2|2|\r\n",
        "|3|1|1|0|3|4|1|\r\n",
        "|4|1|1|0|2|6|0|\r\n",
        "|5|1|0|1|5|1|2|\r\n",
        "|6|1|0|1|4|3|1|\r\n",
        "|7|1|0|1|3|5|0|\r\n",
        "|8|0|3|0|4|0|3|\r\n",
        "|9|0|3|0|3|2|2|\r\n",
        "|10|0|3|0|2|4|1|\r\n",
        "|11|0|3|0|1|6|0|\r\n",
        "|12|0|2|1|4|1|2|\r\n",
        "|13|0|2|1|3|3|1|\r\n",
        "|14|0|2|1|2|5|0|\r\n",
        "|15|0|1|2|5|0|2|\r\n",
        "|16|0|1|2|4|2|1|\r\n",
        "|17|0|1|2|3|4|0|\r\n",
        "|18|0|0|3|5|1|1|\r\n",
        "|19|0|0|3|4|3|0|"
      ]
    },
    {
      "cell_type": "code",
      "metadata": {
        "id": "dVp1em3-g4vb"
      },
      "source": [
        "Jornadas = []\n",
        "Jornadas.append(['AA', 'AB','BB', 'BB', 'BB','BB','BB','CC','CC','CC'])#jornada 1\n",
        "Jornadas.append(['AA', 'AB','BB', 'BB', 'BB','BB','BC','BC','CC','CC'])#jornada 2\n",
        "Jornadas.append(['AA', 'AB','BB', 'BB', 'BB','BC','BC','BC','BC','CC'])#jornada 3\n",
        "Jornadas.append(['AA', 'AB','BB', 'BB', 'BC','BC','BC','BC','BC','BC'])#jornada 4\n",
        "Jornadas.append(['AA', 'AC','BB', 'BB', 'BB','BB','BB','BC','CC','CC'])#jornada 5\n",
        "Jornadas.append(['AA', 'AC','BB', 'BB', 'BB','BB','BC','BC','BC','CC'])#jornada 6\n",
        "Jornadas.append(['AA', 'AC','BB', 'BB', 'BB','BC','BC','BC','BC','BC'])#jornada 7\n",
        "Jornadas.append(['AB', 'AB','AB', 'BB', 'BB','BB','BB','CC','CC','CC'])#jornada 8\n",
        "Jornadas.append(['AB', 'AB','AB', 'BB', 'BB','BB','BC','BC','CC','CC'])#jornada 9\n",
        "Jornadas.append(['AB', 'AB','AB', 'BB', 'BB','BC','BC','BC','BC','CC'])#jornada 10\n",
        "Jornadas.append(['AB', 'AB','AB', 'BB', 'BC','BC','BC','BC','BC','BC'])#jornada 11\n",
        "Jornadas.append(['AB', 'AB','AC', 'BB', 'BB','BB','BB','BC','CC','CC'])#jornada 12\n",
        "Jornadas.append(['AB', 'AB','AC', 'BB', 'BB','BB','BC','BC','BC','CC'])#jornada 13\n",
        "Jornadas.append(['AB', 'AB','AC', 'BB', 'BB','BC','BC','BC','BC','BC'])#jornada 14\n",
        "Jornadas.append(['AB', 'AC','AC', 'BB', 'BB','BB','BB','BB','CC','CC'])#jornada 15\n",
        "Jornadas.append(['AB', 'AC','AC', 'BB', 'BB','BB','BB','BC','BC','CC'])#jornada 16\n",
        "Jornadas.append(['AB', 'AC','AC', 'BB', 'BB','BB','BC','BC','BC','BC'])#jornada 17\n",
        "Jornadas.append(['AC', 'AC','AC', 'BB', 'BB','BB','BB','BB','BC','CC'])#jornada 18\n",
        "Jornadas.append(['AC', 'AC','AC', 'BB', 'BB','BB','BB','BC','BC','BC'])#jornada 19\n",
        "\n",
        "\n",
        "        "
      ],
      "execution_count": 28,
      "outputs": []
    },
    {
      "cell_type": "markdown",
      "metadata": {
        "id": "zy5ZROmjlGo1"
      },
      "source": [
        "Aplica el algoritmo al juego de datos generado"
      ]
    },
    {
      "cell_type": "markdown",
      "metadata": {
        "id": "_Cmj-PVylMsa"
      },
      "source": [
        "Respuesta"
      ]
    },
    {
      "cell_type": "code",
      "metadata": {
        "colab": {
          "base_uri": "https://localhost:8080/"
        },
        "id": "Jkx8GeiYlUz1",
        "outputId": "be95f7b9-6161-45c3-b2e3-ed25f8dca798"
      },
      "source": [
        "def test(Jornadas):\n",
        "    for i in range(0,len(Jornadas)):\n",
        "        print('Jornada '+str(i+1))\n",
        "        \n",
        "        FuerzaBruta(Jornadas[i])\n",
        "        print('')\n",
        "        SolucionVoraz(Jornadas[i])\n",
        "        print('')\n",
        "test(Jornadas)"
      ],
      "execution_count": 35,
      "outputs": [
        {
          "output_type": "stream",
          "text": [
            "Jornada 1\n",
            "Solucion Fuerza Bruta:('CC', 'AB', 'BB', 'BB', 'BB', 'AA', 'BB', 'BB', 'CC', 'CC')\n",
            "Número espectadores Fuerza Bruta:=6.8575\n",
            "Numero de soluciones a probar:5040\n",
            "\n",
            "Solucion Voraz:['CC', 'AA', 'BB', 'BB', 'BB', 'AB', 'BB', 'BB', 'CC', 'CC']\n",
            "Número espectadores Voraz:=6.8575\n",
            "\n",
            "Jornada 2\n",
            "Solucion Fuerza Bruta:('CC', 'AB', 'BB', 'BB', 'BB', 'AA', 'BC', 'BB', 'BC', 'CC')\n",
            "Número espectadores Fuerza Bruta:=6.9085\n",
            "Numero de soluciones a probar:37800\n",
            "\n",
            "Solucion Voraz:['CC', 'AA', 'BB', 'BB', 'BB', 'AB', 'BC', 'BB', 'BC', 'CC']\n",
            "Número espectadores Voraz:=6.9085\n",
            "\n",
            "Jornada 3\n",
            "Solucion Fuerza Bruta:('BC', 'AB', 'BB', 'BB', 'BC', 'AA', 'BC', 'BB', 'BC', 'CC')\n",
            "Número espectadores Fuerza Bruta:=6.938000000000001\n",
            "Numero de soluciones a probar:25200\n",
            "\n",
            "Solucion Voraz:['BC', 'AA', 'BB', 'BB', 'BC', 'AB', 'BC', 'BB', 'BC', 'CC']\n",
            "Número espectadores Voraz:=6.938\n",
            "\n",
            "Jornada 4\n",
            "Solucion Fuerza Bruta:('BC', 'AB', 'BB', 'BC', 'BC', 'AA', 'BC', 'BB', 'BC', 'BC')\n",
            "Número espectadores Fuerza Bruta:=6.945\n",
            "Numero de soluciones a probar:2520\n",
            "\n",
            "Solucion Voraz:['BC', 'AA', 'BB', 'BC', 'BC', 'AB', 'BC', 'BB', 'BC', 'BC']\n",
            "Número espectadores Voraz:=6.945\n",
            "\n",
            "Jornada 5\n",
            "Solucion Fuerza Bruta:('CC', 'AA', 'BB', 'BB', 'BB', 'AC', 'BB', 'BB', 'BC', 'CC')\n",
            "Número espectadores Fuerza Bruta:=6.6835\n",
            "Numero de soluciones a probar:15120\n",
            "\n",
            "Solucion Voraz:['CC', 'AA', 'BB', 'BB', 'BB', 'AC', 'BB', 'BB', 'BC', 'CC']\n",
            "Número espectadores Voraz:=6.6835\n",
            "\n",
            "Jornada 6\n",
            "Solucion Fuerza Bruta:('CC', 'AA', 'BB', 'BB', 'BB', 'AC', 'BC', 'BB', 'BC', 'BC')\n",
            "Número espectadores Fuerza Bruta:=6.7205\n",
            "Numero de soluciones a probar:25200\n",
            "\n",
            "Solucion Voraz:['BC', 'AA', 'BB', 'BB', 'BB', 'AC', 'BC', 'BB', 'BC', 'CC']\n",
            "Número espectadores Voraz:=6.7204999999999995\n",
            "\n",
            "Jornada 7\n",
            "Solucion Fuerza Bruta:('BC', 'AC', 'BB', 'BB', 'BC', 'AA', 'BC', 'BB', 'BC', 'BC')\n",
            "Número espectadores Fuerza Bruta:=6.75\n",
            "Numero de soluciones a probar:5040\n",
            "\n",
            "Solucion Voraz:['BC', 'AA', 'BB', 'BB', 'BC', 'AC', 'BC', 'BB', 'BC', 'BC']\n",
            "Número espectadores Voraz:=6.75\n",
            "\n",
            "Jornada 8\n",
            "Solucion Fuerza Bruta:('CC', 'AB', 'AB', 'BB', 'BB', 'AB', 'BB', 'BB', 'CC', 'CC')\n",
            "Número espectadores Fuerza Bruta:=6.4775\n",
            "Numero de soluciones a probar:4200\n",
            "\n",
            "Solucion Voraz:['CC', 'AB', 'AB', 'BB', 'BB', 'AB', 'BB', 'BB', 'CC', 'CC']\n",
            "Número espectadores Voraz:=6.4775\n",
            "\n",
            "Jornada 9\n",
            "Solucion Fuerza Bruta:('CC', 'AB', 'AB', 'BB', 'BB', 'AB', 'BC', 'BB', 'BC', 'CC')\n",
            "Número espectadores Fuerza Bruta:=6.5285\n",
            "Numero de soluciones a probar:25200\n",
            "\n",
            "Solucion Voraz:['CC', 'AB', 'AB', 'BB', 'BB', 'AB', 'BC', 'BB', 'BC', 'CC']\n",
            "Número espectadores Voraz:=6.5285\n",
            "\n",
            "Jornada 10\n",
            "Solucion Fuerza Bruta:('CC', 'AB', 'AB', 'BB', 'BC', 'AB', 'BC', 'BB', 'BC', 'BC')\n",
            "Número espectadores Fuerza Bruta:=6.558\n",
            "Numero de soluciones a probar:12600\n",
            "\n",
            "Solucion Voraz:['BC', 'AB', 'AB', 'BB', 'BC', 'AB', 'BC', 'BB', 'BC', 'CC']\n",
            "Número espectadores Voraz:=6.558\n",
            "\n",
            "Jornada 11\n",
            "Solucion Fuerza Bruta:('BC', 'AB', 'AB', 'BC', 'BC', 'AB', 'BC', 'BB', 'BC', 'BC')\n",
            "Número espectadores Fuerza Bruta:=6.565\n",
            "Numero de soluciones a probar:840\n",
            "\n",
            "Solucion Voraz:['BC', 'AB', 'AB', 'BC', 'BC', 'AB', 'BC', 'BB', 'BC', 'BC']\n",
            "Número espectadores Voraz:=6.565\n",
            "\n",
            "Jornada 12\n",
            "Solucion Fuerza Bruta:('CC', 'AB', 'AC', 'BB', 'BB', 'AB', 'BB', 'BB', 'BC', 'CC')\n",
            "Número espectadores Fuerza Bruta:=6.3635\n",
            "Numero de soluciones a probar:37800\n",
            "\n",
            "Solucion Voraz:['CC', 'AB', 'AC', 'BB', 'BB', 'AB', 'BB', 'BB', 'BC', 'CC']\n",
            "Número espectadores Voraz:=6.3635\n",
            "\n",
            "Jornada 13\n",
            "Solucion Fuerza Bruta:('BC', 'AB', 'AC', 'BB', 'BB', 'AB', 'BC', 'BB', 'BC', 'CC')\n",
            "Número espectadores Fuerza Bruta:=6.4005\n",
            "Numero de soluciones a probar:50400\n",
            "\n",
            "Solucion Voraz:['BC', 'AB', 'AC', 'BB', 'BB', 'AB', 'BC', 'BB', 'BC', 'CC']\n",
            "Número espectadores Voraz:=6.4005\n",
            "\n",
            "Jornada 14\n",
            "Solucion Fuerza Bruta:('BC', 'AB', 'AC', 'BB', 'BC', 'AB', 'BC', 'BB', 'BC', 'BC')\n",
            "Número espectadores Fuerza Bruta:=6.430000000000001\n",
            "Numero de soluciones a probar:7560\n",
            "\n",
            "Solucion Voraz:['BC', 'AB', 'AC', 'BB', 'BC', 'AB', 'BC', 'BB', 'BC', 'BC']\n",
            "Número espectadores Voraz:=6.430000000000001\n",
            "\n",
            "Jornada 15\n",
            "Solucion Fuerza Bruta:('CC', 'AB', 'AC', 'BB', 'BB', 'AC', 'BB', 'BB', 'BB', 'CC')\n",
            "Número espectadores Fuerza Bruta:=6.131\n",
            "Numero de soluciones a probar:7560\n",
            "\n",
            "Solucion Voraz:['CC', 'AB', 'AC', 'BB', 'BB', 'AC', 'BB', 'BB', 'BB', 'CC']\n",
            "Número espectadores Voraz:=6.131\n",
            "\n",
            "Jornada 16\n",
            "Solucion Fuerza Bruta:('BC', 'AC', 'AC', 'BB', 'BB', 'AB', 'BB', 'BB', 'BC', 'CC')\n",
            "Número espectadores Fuerza Bruta:=6.1755\n",
            "Numero de soluciones a probar:37800\n",
            "\n",
            "Solucion Voraz:['BC', 'AB', 'AC', 'BB', 'BB', 'AC', 'BB', 'BB', 'BC', 'CC']\n",
            "Número espectadores Voraz:=6.1755\n",
            "\n",
            "Jornada 17\n",
            "Solucion Fuerza Bruta:('BC', 'AC', 'AC', 'BB', 'BB', 'AB', 'BC', 'BB', 'BC', 'BC')\n",
            "Número espectadores Fuerza Bruta:=6.2125\n",
            "Numero de soluciones a probar:12600\n",
            "\n",
            "Solucion Voraz:['BC', 'AB', 'AC', 'BB', 'BB', 'AC', 'BC', 'BB', 'BC', 'BC']\n",
            "Número espectadores Voraz:=6.2125\n",
            "\n",
            "Jornada 18\n",
            "Solucion Fuerza Bruta:('BC', 'AC', 'AC', 'BB', 'BB', 'AC', 'BB', 'BB', 'BB', 'CC')\n",
            "Número espectadores Fuerza Bruta:=5.943\n",
            "Numero de soluciones a probar:5040\n",
            "\n",
            "Solucion Voraz:['BC', 'AC', 'AC', 'BB', 'BB', 'AC', 'BB', 'BB', 'BB', 'CC']\n",
            "Número espectadores Voraz:=5.943\n",
            "\n",
            "Jornada 19\n",
            "Solucion Fuerza Bruta:('BC', 'AC', 'AC', 'BB', 'BB', 'AC', 'BB', 'BB', 'BC', 'BC')\n",
            "Número espectadores Fuerza Bruta:=5.9875\n",
            "Numero de soluciones a probar:4200\n",
            "\n",
            "Solucion Voraz:['BC', 'AC', 'AC', 'BB', 'BB', 'AC', 'BB', 'BB', 'BC', 'BC']\n",
            "Número espectadores Voraz:=5.9875\n",
            "\n"
          ],
          "name": "stdout"
        }
      ]
    },
    {
      "cell_type": "markdown",
      "metadata": {
        "id": "eTFWUJQrtGcv"
      },
      "source": [
        "Enumera las referencias que has utilizado(si ha sido necesario) para llevar a cabo el trabajo"
      ]
    },
    {
      "cell_type": "markdown",
      "metadata": {
        "id": "YKQ_mRBttWsP"
      },
      "source": [
        "Respuesta"
      ]
    },
    {
      "cell_type": "markdown",
      "metadata": {
        "id": "HIjxqizEg4vh"
      },
      "source": [
        "Se localizo la forma de obtener los indices originales de un array ordenado, en la siguiente url:\n",
        "https://es.stackoverflow.com/questions/98725/obtener-la-posici%C3%B3n-y-el-valor-del-segundo-mayor-elemento-de-una-lista"
      ]
    },
    {
      "cell_type": "markdown",
      "metadata": {
        "id": "kAkDPUyRtYyH"
      },
      "source": [
        "Describe brevemente las lineas de como crees que es posible avanzar en el estudio del problema. Ten en cuenta incluso posibles variaciones del problema y/o variaciones al alza del tamaño"
      ]
    },
    {
      "cell_type": "markdown",
      "metadata": {
        "id": "IE0uZmo-tZu-"
      },
      "source": [
        "El problema según el enunciado actual tiene una solúcion real y facilmente maximizada, el estudio debería profundizarse en el caso de variar alguno de los datos de entrada, valor de los partidos, horarios o repeticion. En ese caso sería importante analizar en primer lugar que repetición de horario nos aporta valor, realizando ese analísis hasta el número de partidos repetidos en un mismo horario que nos deje de maximizar nuestra funcion objetivo. \n",
        "A partir de este dato ya podemos tener nuestro espacio de soluciones posibles, viendo si tenemos en cuenta alguna repetición.\n",
        "Para obtener la mejor solución tenemos que ir seleccionando en orden los mejores horarios para los mejores partidos."
      ]
    }
  ]
}